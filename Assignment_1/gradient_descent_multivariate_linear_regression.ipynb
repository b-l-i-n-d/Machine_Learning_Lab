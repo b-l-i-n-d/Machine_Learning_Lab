{
  "cells": [
    {
      "cell_type": "code",
      "execution_count": 2,
      "id": "7c0cfd52",
      "metadata": {
        "colab": {
          "base_uri": "https://localhost:8080/"
        },
        "id": "7c0cfd52",
        "outputId": "cf3ceb23-df65-48c1-b066-a5019b2fe66d"
      },
      "outputs": [
        {
          "name": "stdout",
          "output_type": "stream",
          "text": [
            "Drive already mounted at /content/drive; to attempt to forcibly remount, call drive.mount(\"/content/drive\", force_remount=True).\n"
          ]
        }
      ],
      "source": [
        "import pandas as pd\n",
        "import numpy as np\n",
        "import matplotlib.pyplot as plt\n",
        "import seaborn as sns\n",
        "from google.colab import drive\n",
        "drive.mount('/content/drive')"
      ]
    },
    {
      "cell_type": "code",
      "execution_count": 3,
      "id": "0eda3c2b",
      "metadata": {
        "colab": {
          "base_uri": "https://localhost:8080/",
          "height": 426
        },
        "id": "0eda3c2b",
        "outputId": "31cbc5d5-33bc-4851-eb08-41a9685a080e"
      },
      "outputs": [
        {
          "data": {
            "text/html": [
              "\n",
              "  <div id=\"df-f4b7e484-bd35-4822-aa3b-b364f58f6123\">\n",
              "    <div class=\"colab-df-container\">\n",
              "      <div>\n",
              "<style scoped>\n",
              "    .dataframe tbody tr th:only-of-type {\n",
              "        vertical-align: middle;\n",
              "    }\n",
              "\n",
              "    .dataframe tbody tr th {\n",
              "        vertical-align: top;\n",
              "    }\n",
              "\n",
              "    .dataframe thead th {\n",
              "        text-align: right;\n",
              "    }\n",
              "</style>\n",
              "<table border=\"1\" class=\"dataframe\">\n",
              "  <thead>\n",
              "    <tr style=\"text-align: right;\">\n",
              "      <th></th>\n",
              "      <th>Posted On</th>\n",
              "      <th>BHK</th>\n",
              "      <th>Rent</th>\n",
              "      <th>Size</th>\n",
              "      <th>Floor</th>\n",
              "      <th>Area Type</th>\n",
              "      <th>Area Locality</th>\n",
              "      <th>City</th>\n",
              "      <th>Furnishing Status</th>\n",
              "      <th>Tenant Preferred</th>\n",
              "      <th>Bathroom</th>\n",
              "      <th>Point of Contact</th>\n",
              "    </tr>\n",
              "  </thead>\n",
              "  <tbody>\n",
              "    <tr>\n",
              "      <th>0</th>\n",
              "      <td>2022-05-18</td>\n",
              "      <td>2</td>\n",
              "      <td>10000</td>\n",
              "      <td>1100</td>\n",
              "      <td>Ground out of 2</td>\n",
              "      <td>Super Area</td>\n",
              "      <td>Bandel</td>\n",
              "      <td>Kolkata</td>\n",
              "      <td>Unfurnished</td>\n",
              "      <td>Bachelors/Family</td>\n",
              "      <td>2</td>\n",
              "      <td>Contact Owner</td>\n",
              "    </tr>\n",
              "    <tr>\n",
              "      <th>1</th>\n",
              "      <td>2022-05-13</td>\n",
              "      <td>2</td>\n",
              "      <td>20000</td>\n",
              "      <td>800</td>\n",
              "      <td>1 out of 3</td>\n",
              "      <td>Super Area</td>\n",
              "      <td>Phool Bagan, Kankurgachi</td>\n",
              "      <td>Kolkata</td>\n",
              "      <td>Semi-Furnished</td>\n",
              "      <td>Bachelors/Family</td>\n",
              "      <td>1</td>\n",
              "      <td>Contact Owner</td>\n",
              "    </tr>\n",
              "    <tr>\n",
              "      <th>2</th>\n",
              "      <td>2022-05-16</td>\n",
              "      <td>2</td>\n",
              "      <td>17000</td>\n",
              "      <td>1000</td>\n",
              "      <td>1 out of 3</td>\n",
              "      <td>Super Area</td>\n",
              "      <td>Salt Lake City Sector 2</td>\n",
              "      <td>Kolkata</td>\n",
              "      <td>Semi-Furnished</td>\n",
              "      <td>Bachelors/Family</td>\n",
              "      <td>1</td>\n",
              "      <td>Contact Owner</td>\n",
              "    </tr>\n",
              "    <tr>\n",
              "      <th>3</th>\n",
              "      <td>2022-07-04</td>\n",
              "      <td>2</td>\n",
              "      <td>10000</td>\n",
              "      <td>800</td>\n",
              "      <td>1 out of 2</td>\n",
              "      <td>Super Area</td>\n",
              "      <td>Dumdum Park</td>\n",
              "      <td>Kolkata</td>\n",
              "      <td>Unfurnished</td>\n",
              "      <td>Bachelors/Family</td>\n",
              "      <td>1</td>\n",
              "      <td>Contact Owner</td>\n",
              "    </tr>\n",
              "    <tr>\n",
              "      <th>4</th>\n",
              "      <td>2022-05-09</td>\n",
              "      <td>2</td>\n",
              "      <td>7500</td>\n",
              "      <td>850</td>\n",
              "      <td>1 out of 2</td>\n",
              "      <td>Carpet Area</td>\n",
              "      <td>South Dum Dum</td>\n",
              "      <td>Kolkata</td>\n",
              "      <td>Unfurnished</td>\n",
              "      <td>Bachelors</td>\n",
              "      <td>1</td>\n",
              "      <td>Contact Owner</td>\n",
              "    </tr>\n",
              "  </tbody>\n",
              "</table>\n",
              "</div>\n",
              "      <button class=\"colab-df-convert\" onclick=\"convertToInteractive('df-f4b7e484-bd35-4822-aa3b-b364f58f6123')\"\n",
              "              title=\"Convert this dataframe to an interactive table.\"\n",
              "              style=\"display:none;\">\n",
              "        \n",
              "  <svg xmlns=\"http://www.w3.org/2000/svg\" height=\"24px\"viewBox=\"0 0 24 24\"\n",
              "       width=\"24px\">\n",
              "    <path d=\"M0 0h24v24H0V0z\" fill=\"none\"/>\n",
              "    <path d=\"M18.56 5.44l.94 2.06.94-2.06 2.06-.94-2.06-.94-.94-2.06-.94 2.06-2.06.94zm-11 1L8.5 8.5l.94-2.06 2.06-.94-2.06-.94L8.5 2.5l-.94 2.06-2.06.94zm10 10l.94 2.06.94-2.06 2.06-.94-2.06-.94-.94-2.06-.94 2.06-2.06.94z\"/><path d=\"M17.41 7.96l-1.37-1.37c-.4-.4-.92-.59-1.43-.59-.52 0-1.04.2-1.43.59L10.3 9.45l-7.72 7.72c-.78.78-.78 2.05 0 2.83L4 21.41c.39.39.9.59 1.41.59.51 0 1.02-.2 1.41-.59l7.78-7.78 2.81-2.81c.8-.78.8-2.07 0-2.86zM5.41 20L4 18.59l7.72-7.72 1.47 1.35L5.41 20z\"/>\n",
              "  </svg>\n",
              "      </button>\n",
              "      \n",
              "  <style>\n",
              "    .colab-df-container {\n",
              "      display:flex;\n",
              "      flex-wrap:wrap;\n",
              "      gap: 12px;\n",
              "    }\n",
              "\n",
              "    .colab-df-convert {\n",
              "      background-color: #E8F0FE;\n",
              "      border: none;\n",
              "      border-radius: 50%;\n",
              "      cursor: pointer;\n",
              "      display: none;\n",
              "      fill: #1967D2;\n",
              "      height: 32px;\n",
              "      padding: 0 0 0 0;\n",
              "      width: 32px;\n",
              "    }\n",
              "\n",
              "    .colab-df-convert:hover {\n",
              "      background-color: #E2EBFA;\n",
              "      box-shadow: 0px 1px 2px rgba(60, 64, 67, 0.3), 0px 1px 3px 1px rgba(60, 64, 67, 0.15);\n",
              "      fill: #174EA6;\n",
              "    }\n",
              "\n",
              "    [theme=dark] .colab-df-convert {\n",
              "      background-color: #3B4455;\n",
              "      fill: #D2E3FC;\n",
              "    }\n",
              "\n",
              "    [theme=dark] .colab-df-convert:hover {\n",
              "      background-color: #434B5C;\n",
              "      box-shadow: 0px 1px 3px 1px rgba(0, 0, 0, 0.15);\n",
              "      filter: drop-shadow(0px 1px 2px rgba(0, 0, 0, 0.3));\n",
              "      fill: #FFFFFF;\n",
              "    }\n",
              "  </style>\n",
              "\n",
              "      <script>\n",
              "        const buttonEl =\n",
              "          document.querySelector('#df-f4b7e484-bd35-4822-aa3b-b364f58f6123 button.colab-df-convert');\n",
              "        buttonEl.style.display =\n",
              "          google.colab.kernel.accessAllowed ? 'block' : 'none';\n",
              "\n",
              "        async function convertToInteractive(key) {\n",
              "          const element = document.querySelector('#df-f4b7e484-bd35-4822-aa3b-b364f58f6123');\n",
              "          const dataTable =\n",
              "            await google.colab.kernel.invokeFunction('convertToInteractive',\n",
              "                                                     [key], {});\n",
              "          if (!dataTable) return;\n",
              "\n",
              "          const docLinkHtml = 'Like what you see? Visit the ' +\n",
              "            '<a target=\"_blank\" href=https://colab.research.google.com/notebooks/data_table.ipynb>data table notebook</a>'\n",
              "            + ' to learn more about interactive tables.';\n",
              "          element.innerHTML = '';\n",
              "          dataTable['output_type'] = 'display_data';\n",
              "          await google.colab.output.renderOutput(dataTable, element);\n",
              "          const docLink = document.createElement('div');\n",
              "          docLink.innerHTML = docLinkHtml;\n",
              "          element.appendChild(docLink);\n",
              "        }\n",
              "      </script>\n",
              "    </div>\n",
              "  </div>\n",
              "  "
            ],
            "text/plain": [
              "    Posted On  BHK   Rent  Size            Floor    Area Type  \\\n",
              "0  2022-05-18    2  10000  1100  Ground out of 2   Super Area   \n",
              "1  2022-05-13    2  20000   800       1 out of 3   Super Area   \n",
              "2  2022-05-16    2  17000  1000       1 out of 3   Super Area   \n",
              "3  2022-07-04    2  10000   800       1 out of 2   Super Area   \n",
              "4  2022-05-09    2   7500   850       1 out of 2  Carpet Area   \n",
              "\n",
              "              Area Locality     City Furnishing Status  Tenant Preferred  \\\n",
              "0                    Bandel  Kolkata       Unfurnished  Bachelors/Family   \n",
              "1  Phool Bagan, Kankurgachi  Kolkata    Semi-Furnished  Bachelors/Family   \n",
              "2   Salt Lake City Sector 2  Kolkata    Semi-Furnished  Bachelors/Family   \n",
              "3               Dumdum Park  Kolkata       Unfurnished  Bachelors/Family   \n",
              "4             South Dum Dum  Kolkata       Unfurnished         Bachelors   \n",
              "\n",
              "   Bathroom Point of Contact  \n",
              "0         2    Contact Owner  \n",
              "1         1    Contact Owner  \n",
              "2         1    Contact Owner  \n",
              "3         1    Contact Owner  \n",
              "4         1    Contact Owner  "
            ]
          },
          "execution_count": 3,
          "metadata": {},
          "output_type": "execute_result"
        }
      ],
      "source": [
        "dataframe = pd.read_csv(\"/content/drive/MyDrive/Machine_Learning_Lab_Datasets/4K_House_Rent_Dataset.csv\")\n",
        "dataframe.head()\n"
      ]
    },
    {
      "cell_type": "code",
      "execution_count": 4,
      "id": "8617a465",
      "metadata": {
        "colab": {
          "base_uri": "https://localhost:8080/",
          "height": 424
        },
        "id": "8617a465",
        "outputId": "f549e065-ad9d-4e0a-842a-d1c4c10e75bc"
      },
      "outputs": [
        {
          "data": {
            "text/html": [
              "\n",
              "  <div id=\"df-8e9bd3dd-4696-4e84-a0c9-d3992209d2cc\">\n",
              "    <div class=\"colab-df-container\">\n",
              "      <div>\n",
              "<style scoped>\n",
              "    .dataframe tbody tr th:only-of-type {\n",
              "        vertical-align: middle;\n",
              "    }\n",
              "\n",
              "    .dataframe tbody tr th {\n",
              "        vertical-align: top;\n",
              "    }\n",
              "\n",
              "    .dataframe thead th {\n",
              "        text-align: right;\n",
              "    }\n",
              "</style>\n",
              "<table border=\"1\" class=\"dataframe\">\n",
              "  <thead>\n",
              "    <tr style=\"text-align: right;\">\n",
              "      <th></th>\n",
              "      <th>BHK</th>\n",
              "      <th>Rent</th>\n",
              "      <th>Size</th>\n",
              "      <th>Area Type</th>\n",
              "      <th>Furnishing Status</th>\n",
              "      <th>Bathroom</th>\n",
              "    </tr>\n",
              "  </thead>\n",
              "  <tbody>\n",
              "    <tr>\n",
              "      <th>0</th>\n",
              "      <td>2</td>\n",
              "      <td>10000</td>\n",
              "      <td>1100</td>\n",
              "      <td>Super Area</td>\n",
              "      <td>Unfurnished</td>\n",
              "      <td>2</td>\n",
              "    </tr>\n",
              "    <tr>\n",
              "      <th>1</th>\n",
              "      <td>2</td>\n",
              "      <td>20000</td>\n",
              "      <td>800</td>\n",
              "      <td>Super Area</td>\n",
              "      <td>Semi-Furnished</td>\n",
              "      <td>1</td>\n",
              "    </tr>\n",
              "    <tr>\n",
              "      <th>2</th>\n",
              "      <td>2</td>\n",
              "      <td>17000</td>\n",
              "      <td>1000</td>\n",
              "      <td>Super Area</td>\n",
              "      <td>Semi-Furnished</td>\n",
              "      <td>1</td>\n",
              "    </tr>\n",
              "    <tr>\n",
              "      <th>3</th>\n",
              "      <td>2</td>\n",
              "      <td>10000</td>\n",
              "      <td>800</td>\n",
              "      <td>Super Area</td>\n",
              "      <td>Unfurnished</td>\n",
              "      <td>1</td>\n",
              "    </tr>\n",
              "    <tr>\n",
              "      <th>4</th>\n",
              "      <td>2</td>\n",
              "      <td>7500</td>\n",
              "      <td>850</td>\n",
              "      <td>Carpet Area</td>\n",
              "      <td>Unfurnished</td>\n",
              "      <td>1</td>\n",
              "    </tr>\n",
              "    <tr>\n",
              "      <th>...</th>\n",
              "      <td>...</td>\n",
              "      <td>...</td>\n",
              "      <td>...</td>\n",
              "      <td>...</td>\n",
              "      <td>...</td>\n",
              "      <td>...</td>\n",
              "    </tr>\n",
              "    <tr>\n",
              "      <th>4741</th>\n",
              "      <td>2</td>\n",
              "      <td>15000</td>\n",
              "      <td>1000</td>\n",
              "      <td>Carpet Area</td>\n",
              "      <td>Semi-Furnished</td>\n",
              "      <td>2</td>\n",
              "    </tr>\n",
              "    <tr>\n",
              "      <th>4742</th>\n",
              "      <td>3</td>\n",
              "      <td>29000</td>\n",
              "      <td>2000</td>\n",
              "      <td>Super Area</td>\n",
              "      <td>Semi-Furnished</td>\n",
              "      <td>3</td>\n",
              "    </tr>\n",
              "    <tr>\n",
              "      <th>4743</th>\n",
              "      <td>3</td>\n",
              "      <td>35000</td>\n",
              "      <td>1750</td>\n",
              "      <td>Carpet Area</td>\n",
              "      <td>Semi-Furnished</td>\n",
              "      <td>3</td>\n",
              "    </tr>\n",
              "    <tr>\n",
              "      <th>4744</th>\n",
              "      <td>3</td>\n",
              "      <td>45000</td>\n",
              "      <td>1500</td>\n",
              "      <td>Carpet Area</td>\n",
              "      <td>Semi-Furnished</td>\n",
              "      <td>2</td>\n",
              "    </tr>\n",
              "    <tr>\n",
              "      <th>4745</th>\n",
              "      <td>2</td>\n",
              "      <td>15000</td>\n",
              "      <td>1000</td>\n",
              "      <td>Carpet Area</td>\n",
              "      <td>Unfurnished</td>\n",
              "      <td>2</td>\n",
              "    </tr>\n",
              "  </tbody>\n",
              "</table>\n",
              "<p>4746 rows × 6 columns</p>\n",
              "</div>\n",
              "      <button class=\"colab-df-convert\" onclick=\"convertToInteractive('df-8e9bd3dd-4696-4e84-a0c9-d3992209d2cc')\"\n",
              "              title=\"Convert this dataframe to an interactive table.\"\n",
              "              style=\"display:none;\">\n",
              "        \n",
              "  <svg xmlns=\"http://www.w3.org/2000/svg\" height=\"24px\"viewBox=\"0 0 24 24\"\n",
              "       width=\"24px\">\n",
              "    <path d=\"M0 0h24v24H0V0z\" fill=\"none\"/>\n",
              "    <path d=\"M18.56 5.44l.94 2.06.94-2.06 2.06-.94-2.06-.94-.94-2.06-.94 2.06-2.06.94zm-11 1L8.5 8.5l.94-2.06 2.06-.94-2.06-.94L8.5 2.5l-.94 2.06-2.06.94zm10 10l.94 2.06.94-2.06 2.06-.94-2.06-.94-.94-2.06-.94 2.06-2.06.94z\"/><path d=\"M17.41 7.96l-1.37-1.37c-.4-.4-.92-.59-1.43-.59-.52 0-1.04.2-1.43.59L10.3 9.45l-7.72 7.72c-.78.78-.78 2.05 0 2.83L4 21.41c.39.39.9.59 1.41.59.51 0 1.02-.2 1.41-.59l7.78-7.78 2.81-2.81c.8-.78.8-2.07 0-2.86zM5.41 20L4 18.59l7.72-7.72 1.47 1.35L5.41 20z\"/>\n",
              "  </svg>\n",
              "      </button>\n",
              "      \n",
              "  <style>\n",
              "    .colab-df-container {\n",
              "      display:flex;\n",
              "      flex-wrap:wrap;\n",
              "      gap: 12px;\n",
              "    }\n",
              "\n",
              "    .colab-df-convert {\n",
              "      background-color: #E8F0FE;\n",
              "      border: none;\n",
              "      border-radius: 50%;\n",
              "      cursor: pointer;\n",
              "      display: none;\n",
              "      fill: #1967D2;\n",
              "      height: 32px;\n",
              "      padding: 0 0 0 0;\n",
              "      width: 32px;\n",
              "    }\n",
              "\n",
              "    .colab-df-convert:hover {\n",
              "      background-color: #E2EBFA;\n",
              "      box-shadow: 0px 1px 2px rgba(60, 64, 67, 0.3), 0px 1px 3px 1px rgba(60, 64, 67, 0.15);\n",
              "      fill: #174EA6;\n",
              "    }\n",
              "\n",
              "    [theme=dark] .colab-df-convert {\n",
              "      background-color: #3B4455;\n",
              "      fill: #D2E3FC;\n",
              "    }\n",
              "\n",
              "    [theme=dark] .colab-df-convert:hover {\n",
              "      background-color: #434B5C;\n",
              "      box-shadow: 0px 1px 3px 1px rgba(0, 0, 0, 0.15);\n",
              "      filter: drop-shadow(0px 1px 2px rgba(0, 0, 0, 0.3));\n",
              "      fill: #FFFFFF;\n",
              "    }\n",
              "  </style>\n",
              "\n",
              "      <script>\n",
              "        const buttonEl =\n",
              "          document.querySelector('#df-8e9bd3dd-4696-4e84-a0c9-d3992209d2cc button.colab-df-convert');\n",
              "        buttonEl.style.display =\n",
              "          google.colab.kernel.accessAllowed ? 'block' : 'none';\n",
              "\n",
              "        async function convertToInteractive(key) {\n",
              "          const element = document.querySelector('#df-8e9bd3dd-4696-4e84-a0c9-d3992209d2cc');\n",
              "          const dataTable =\n",
              "            await google.colab.kernel.invokeFunction('convertToInteractive',\n",
              "                                                     [key], {});\n",
              "          if (!dataTable) return;\n",
              "\n",
              "          const docLinkHtml = 'Like what you see? Visit the ' +\n",
              "            '<a target=\"_blank\" href=https://colab.research.google.com/notebooks/data_table.ipynb>data table notebook</a>'\n",
              "            + ' to learn more about interactive tables.';\n",
              "          element.innerHTML = '';\n",
              "          dataTable['output_type'] = 'display_data';\n",
              "          await google.colab.output.renderOutput(dataTable, element);\n",
              "          const docLink = document.createElement('div');\n",
              "          docLink.innerHTML = docLinkHtml;\n",
              "          element.appendChild(docLink);\n",
              "        }\n",
              "      </script>\n",
              "    </div>\n",
              "  </div>\n",
              "  "
            ],
            "text/plain": [
              "      BHK   Rent  Size    Area Type Furnishing Status  Bathroom\n",
              "0       2  10000  1100   Super Area       Unfurnished         2\n",
              "1       2  20000   800   Super Area    Semi-Furnished         1\n",
              "2       2  17000  1000   Super Area    Semi-Furnished         1\n",
              "3       2  10000   800   Super Area       Unfurnished         1\n",
              "4       2   7500   850  Carpet Area       Unfurnished         1\n",
              "...   ...    ...   ...          ...               ...       ...\n",
              "4741    2  15000  1000  Carpet Area    Semi-Furnished         2\n",
              "4742    3  29000  2000   Super Area    Semi-Furnished         3\n",
              "4743    3  35000  1750  Carpet Area    Semi-Furnished         3\n",
              "4744    3  45000  1500  Carpet Area    Semi-Furnished         2\n",
              "4745    2  15000  1000  Carpet Area       Unfurnished         2\n",
              "\n",
              "[4746 rows x 6 columns]"
            ]
          },
          "execution_count": 4,
          "metadata": {},
          "output_type": "execute_result"
        }
      ],
      "source": [
        "dataframe.drop(['Posted On','Floor','Area Locality','City','Tenant Preferred','Point of Contact'],axis='columns',inplace=True)\n",
        "dataframe"
      ]
    },
    {
      "cell_type": "code",
      "execution_count": 5,
      "id": "3ae33cc0",
      "metadata": {
        "colab": {
          "base_uri": "https://localhost:8080/"
        },
        "id": "3ae33cc0",
        "outputId": "bf6ef04c-adc3-41d5-9d8b-fe8af0f8dab2"
      },
      "outputs": [
        {
          "data": {
            "text/plain": [
              "4746"
            ]
          },
          "execution_count": 5,
          "metadata": {},
          "output_type": "execute_result"
        }
      ],
      "source": [
        "# number of training examples\n",
        "\n",
        "m = len(dataframe)\n",
        "m"
      ]
    },
    {
      "cell_type": "code",
      "execution_count": 6,
      "id": "79d8ad52",
      "metadata": {
        "id": "79d8ad52"
      },
      "outputs": [],
      "source": [
        "columns_having_null_values = []"
      ]
    },
    {
      "cell_type": "code",
      "execution_count": 7,
      "id": "e8e9e9c5",
      "metadata": {
        "id": "e8e9e9c5"
      },
      "outputs": [],
      "source": [
        "#checking for null values\n",
        "\n",
        "def check_which_column_has_null_values(df):\n",
        "    for column in df:\n",
        "        number_of_not_null_values = df[column].notnull().sum()\n",
        "        if number_of_not_null_values < m :\n",
        "            columns_having_null_values.append(column)"
      ]
    },
    {
      "cell_type": "code",
      "execution_count": 8,
      "id": "6d35eac4",
      "metadata": {
        "id": "6d35eac4"
      },
      "outputs": [],
      "source": [
        "check_which_column_has_null_values(dataframe)"
      ]
    },
    {
      "cell_type": "code",
      "execution_count": 9,
      "id": "8f53f315",
      "metadata": {
        "colab": {
          "base_uri": "https://localhost:8080/"
        },
        "id": "8f53f315",
        "outputId": "9ad52cb7-926c-48e4-ccc4-8d79daea3553"
      },
      "outputs": [
        {
          "data": {
            "text/plain": [
              "[]"
            ]
          },
          "execution_count": 9,
          "metadata": {},
          "output_type": "execute_result"
        }
      ],
      "source": [
        "# checking whether is there any column which has null values\n",
        "\n",
        "columns_having_null_values"
      ]
    },
    {
      "cell_type": "code",
      "execution_count": 10,
      "id": "6194d123",
      "metadata": {
        "id": "6194d123"
      },
      "outputs": [],
      "source": [
        "def print_unique_values_for_column(df):\n",
        "    for column in df:\n",
        "        print(f'{column} : {df[column].unique()}')"
      ]
    },
    {
      "cell_type": "code",
      "execution_count": 11,
      "id": "16e97a2c",
      "metadata": {
        "colab": {
          "base_uri": "https://localhost:8080/"
        },
        "id": "16e97a2c",
        "outputId": "265b9a96-3eb7-4ce3-a101-3e0f5faab32c"
      },
      "outputs": [
        {
          "name": "stdout",
          "output_type": "stream",
          "text": [
            "BHK : [2 1 3 6 4 5]\n",
            "Rent : [  10000   20000   17000    7500    7000    5000   26000   25000    6500\n",
            "    5500    8500   40000    6000   11000    7900    9000    4000    8000\n",
            "    5300   12500   15000   22000   21000    7200   12000    4600   30000\n",
            "    3500   16000   14500    8200    6700   18000   35000  180000   14000\n",
            "    3900    6300   13000    6800    4700    4500   17500    2200    9500\n",
            "   16500   10500   50000    5200   24000    3000    3200    1500    3800\n",
            "    6200    9900   36125   23000    5146   22500   34000    1800    3700\n",
            "    3300   60000   65000   45000   70000   75000  160000  300000  130000\n",
            "   33000   32000   49000   28000   33500   85000  270000  400000  150000\n",
            "  100000   19411  190000   68000  110000   44000   43000   57000   27000\n",
            "   55000   95000   80000   89000   38000  350000  170000  210000   47000\n",
            "  120000   62000   42000   41000   84500  220000  310000   53000  250000\n",
            "   13500   25500   45002   48000  140000  230000  600000   46000   55100\n",
            "  320000   92500   29999  330000   36000   53500   61000  200000   19000\n",
            "   18500   19500   90000   93000   69999 1000000   33003  450000  280000\n",
            "   56000   83000   39000   15500   51000  260000   43500   77500   59000\n",
            "   72000   52000   51500   98000   23500 1200000   84000  500000    9400\n",
            "   94000   58000   54500   67000  380000   29500   37000   35500   90100\n",
            "   77000  290000  240000   26500   54000   76000   79500   63000   28500\n",
            "  360000   66000  650000  850000   34999   49500   46700   88000   78000\n",
            "   74999   69000   29000   31000  700000  680000   61500   11400   11500\n",
            "   32900    6900   27500    9750 3500000    8900   21500    9300   26969\n",
            "   42500    4300    4800   17681   13900    7700    4750   17600    9250\n",
            "   14900   20500    2000   17401   44300  530000   20200   31500   22999\n",
            "   12100   24500    7600   11200   34500    5700   23999    5250   47500\n",
            "   18999    4200   15723    6250   37500    6166    9800   19397   27999\n",
            "   10677   32500   23382   19800    1200    5400   12333   21467    5800]\n",
            "Size : [1100  800 1000  850  600  700  250 1200  400  375  900 1286 2000  660\n",
            "  650  300 1600  355  350  550  500  630  270 1500 1300 1068  150  450\n",
            "  720  680  950 1800  480  435 1450  750  220   20  200  840  740  490\n",
            "  751  280  120 1220  670  190  240 2200  685   44 1110  392  710 1400\n",
            "  160 1250  839  230  620 1350  723  320 2160 1700  130  505 4000 1190\n",
            " 1012  812  420 1750  830 1050  960  756  288  986 1330  322 3500  957\n",
            " 1430 1320  475  780  570  460  530  558  175  425  721 1150 2210  675\n",
            " 1880  640 1650  518  777 2308  890  888  275  424 2079  586  610  488\n",
            "  722  470  410  540  932  560 3000  696 2500  715 1337  737  760  365\n",
            " 2600 1783  565 1514 1080  825  360 1545  432  695 1095  790  661  330\n",
            "  925 1105 1460  415  585 1755  385  628 1064  845 1915  807  380  428\n",
            " 1550 1454  860  433 2700 1225 1224  305  690  635 1379  390  935  535\n",
            " 3700 1208 3200  225  463 1900 1325  905  455  430  795  575  656  719\n",
            " 3064 3400  980 2800  413 1850 1705 1355  340  471 1528 1030  985  806\n",
            "  583  994  520 2750 2424  724 1076 2170  485  478  704  525  755  625\n",
            "  370  805  742  745 1265  325  902 1233 2120 1937 5000  596 1950  510\n",
            " 1260  770 3900  694 3250 1740  472  421  515  831  753 1197  880 1088\n",
            " 2650  975  785 1016  444  508  623 1358 1255  955  870 1691  615  663\n",
            " 1432  649  882  736 1710  555 1065  854  906 1130  495  407 1092  669\n",
            "  725  999 1256  889  434 1121  937  379  920  440  582 1617  836 2046\n",
            "  730  229  910 1648  820  771 1526  465 1073  310  967 1649 1560 4500\n",
            " 1425 1375 1270  265  422  895 1663  377 2080  965 2100 1380  868  970\n",
            "  774 1152  641  810  875  758 2880 1962  590 1120 2729 3354 1040 1403\n",
            " 2608 1045 1021 1280 1680 1155 2900 3150  100 1603 1771  773  865 1840\n",
            " 1159   50  990 1360 1757 1281 1221  416  976 1387 1020 1645 3276 1893\n",
            " 1296 4800 1066 2150 2110 1025 1180  580  904 1252 2770  144 1005 1274\n",
            " 1480 1115 1060 1278 4105 1055  894 2400 2430 1475 4341  846  110 5700\n",
            " 1760 3100  775  445 2710 1768  532 1465  940 1789 1618 1374 1580 4550\n",
            " 1333 1875 1660 1305 1188 2390 1788 1520 1464  180  140   75 1670   70\n",
            "   60  170   48 1901  145   25  892   80   45 1125  713   54   63 1440\n",
            "   55   68   65 2300   84   90  512  446  125  499   30  497   95  272\n",
            " 2925  106   96  545  165 1872   40   42 2550 3800 1205   77 1027 1428\n",
            " 2117 1462  674 1540  930 1210 1234 1162 1261 1145 3600 1158  898  717\n",
            " 1070 2036  619  115 1725 2064 1557  917  579 1920 1002  778 1567 1113\n",
            " 1175 1010  618 1651  705  901 1340 1246 1099 1530 1780 1402 1484 1140\n",
            " 1525 1132 3300  786 1785  803 1975  914 1170 1435 1444 1503  966 1062\n",
            " 1015 1570 1157 2792 1153  506  749 1107 1235 1415  281 6000  926 2280\n",
            "  826  502  833  809 2240 1424  595 1075 2317 1109 1290  939 1610  973\n",
            " 1420  843 1144 1903 1383 1912 1146  909  886 1625 1535  647 1798 2061\n",
            "  919 2395 1815 2290 1473 4050 2520  242 1496  878 1956 1955 1090 3133\n",
            " 2050 1160 1417 1565 1675 1135 3698 2405 1248 3115  927  562 1720  103\n",
            " 8000 1730  133  192 1315 1230 4761 1970 1940  167  933 1742 1838 1960\n",
            " 1275 1285 2235 1283 3455 3050 7000 1606 2352 2671 1156   67 1492 2990\n",
            " 2780 1685  853 2310 1965 1834   10 3789 1422 1124 4200  214  855]\n",
            "Area Type : ['Super Area' 'Carpet Area' 'Built Area']\n",
            "Furnishing Status : ['Unfurnished' 'Semi-Furnished' 'Furnished']\n",
            "Bathroom : [ 2  1  3  5  4  6  7 10]\n"
          ]
        }
      ],
      "source": [
        "print_unique_values_for_column(dataframe)"
      ]
    },
    {
      "cell_type": "code",
      "execution_count": 12,
      "id": "4f98d527",
      "metadata": {
        "id": "4f98d527"
      },
      "outputs": [],
      "source": [
        "dataframe['Area Type'].replace({'Super Area' : 0,'Carpet Area' : 1, 'Built Area': 2},inplace=True)\n",
        "dataframe['Furnishing Status'].replace({'Unfurnished' : 0,'Semi-Furnished' : 1, 'Furnished': 2},inplace=True)"
      ]
    },
    {
      "cell_type": "code",
      "execution_count": 13,
      "id": "cb27c3fc",
      "metadata": {
        "colab": {
          "base_uri": "https://localhost:8080/"
        },
        "id": "cb27c3fc",
        "outputId": "96bc8559-7bb2-407d-96c6-dc71c0a5fe3d"
      },
      "outputs": [
        {
          "name": "stdout",
          "output_type": "stream",
          "text": [
            "BHK : [2 1 3 6 4 5]\n",
            "Rent : [  10000   20000   17000    7500    7000    5000   26000   25000    6500\n",
            "    5500    8500   40000    6000   11000    7900    9000    4000    8000\n",
            "    5300   12500   15000   22000   21000    7200   12000    4600   30000\n",
            "    3500   16000   14500    8200    6700   18000   35000  180000   14000\n",
            "    3900    6300   13000    6800    4700    4500   17500    2200    9500\n",
            "   16500   10500   50000    5200   24000    3000    3200    1500    3800\n",
            "    6200    9900   36125   23000    5146   22500   34000    1800    3700\n",
            "    3300   60000   65000   45000   70000   75000  160000  300000  130000\n",
            "   33000   32000   49000   28000   33500   85000  270000  400000  150000\n",
            "  100000   19411  190000   68000  110000   44000   43000   57000   27000\n",
            "   55000   95000   80000   89000   38000  350000  170000  210000   47000\n",
            "  120000   62000   42000   41000   84500  220000  310000   53000  250000\n",
            "   13500   25500   45002   48000  140000  230000  600000   46000   55100\n",
            "  320000   92500   29999  330000   36000   53500   61000  200000   19000\n",
            "   18500   19500   90000   93000   69999 1000000   33003  450000  280000\n",
            "   56000   83000   39000   15500   51000  260000   43500   77500   59000\n",
            "   72000   52000   51500   98000   23500 1200000   84000  500000    9400\n",
            "   94000   58000   54500   67000  380000   29500   37000   35500   90100\n",
            "   77000  290000  240000   26500   54000   76000   79500   63000   28500\n",
            "  360000   66000  650000  850000   34999   49500   46700   88000   78000\n",
            "   74999   69000   29000   31000  700000  680000   61500   11400   11500\n",
            "   32900    6900   27500    9750 3500000    8900   21500    9300   26969\n",
            "   42500    4300    4800   17681   13900    7700    4750   17600    9250\n",
            "   14900   20500    2000   17401   44300  530000   20200   31500   22999\n",
            "   12100   24500    7600   11200   34500    5700   23999    5250   47500\n",
            "   18999    4200   15723    6250   37500    6166    9800   19397   27999\n",
            "   10677   32500   23382   19800    1200    5400   12333   21467    5800]\n",
            "Size : [1100  800 1000  850  600  700  250 1200  400  375  900 1286 2000  660\n",
            "  650  300 1600  355  350  550  500  630  270 1500 1300 1068  150  450\n",
            "  720  680  950 1800  480  435 1450  750  220   20  200  840  740  490\n",
            "  751  280  120 1220  670  190  240 2200  685   44 1110  392  710 1400\n",
            "  160 1250  839  230  620 1350  723  320 2160 1700  130  505 4000 1190\n",
            " 1012  812  420 1750  830 1050  960  756  288  986 1330  322 3500  957\n",
            " 1430 1320  475  780  570  460  530  558  175  425  721 1150 2210  675\n",
            " 1880  640 1650  518  777 2308  890  888  275  424 2079  586  610  488\n",
            "  722  470  410  540  932  560 3000  696 2500  715 1337  737  760  365\n",
            " 2600 1783  565 1514 1080  825  360 1545  432  695 1095  790  661  330\n",
            "  925 1105 1460  415  585 1755  385  628 1064  845 1915  807  380  428\n",
            " 1550 1454  860  433 2700 1225 1224  305  690  635 1379  390  935  535\n",
            " 3700 1208 3200  225  463 1900 1325  905  455  430  795  575  656  719\n",
            " 3064 3400  980 2800  413 1850 1705 1355  340  471 1528 1030  985  806\n",
            "  583  994  520 2750 2424  724 1076 2170  485  478  704  525  755  625\n",
            "  370  805  742  745 1265  325  902 1233 2120 1937 5000  596 1950  510\n",
            " 1260  770 3900  694 3250 1740  472  421  515  831  753 1197  880 1088\n",
            " 2650  975  785 1016  444  508  623 1358 1255  955  870 1691  615  663\n",
            " 1432  649  882  736 1710  555 1065  854  906 1130  495  407 1092  669\n",
            "  725  999 1256  889  434 1121  937  379  920  440  582 1617  836 2046\n",
            "  730  229  910 1648  820  771 1526  465 1073  310  967 1649 1560 4500\n",
            " 1425 1375 1270  265  422  895 1663  377 2080  965 2100 1380  868  970\n",
            "  774 1152  641  810  875  758 2880 1962  590 1120 2729 3354 1040 1403\n",
            " 2608 1045 1021 1280 1680 1155 2900 3150  100 1603 1771  773  865 1840\n",
            " 1159   50  990 1360 1757 1281 1221  416  976 1387 1020 1645 3276 1893\n",
            " 1296 4800 1066 2150 2110 1025 1180  580  904 1252 2770  144 1005 1274\n",
            " 1480 1115 1060 1278 4105 1055  894 2400 2430 1475 4341  846  110 5700\n",
            " 1760 3100  775  445 2710 1768  532 1465  940 1789 1618 1374 1580 4550\n",
            " 1333 1875 1660 1305 1188 2390 1788 1520 1464  180  140   75 1670   70\n",
            "   60  170   48 1901  145   25  892   80   45 1125  713   54   63 1440\n",
            "   55   68   65 2300   84   90  512  446  125  499   30  497   95  272\n",
            " 2925  106   96  545  165 1872   40   42 2550 3800 1205   77 1027 1428\n",
            " 2117 1462  674 1540  930 1210 1234 1162 1261 1145 3600 1158  898  717\n",
            " 1070 2036  619  115 1725 2064 1557  917  579 1920 1002  778 1567 1113\n",
            " 1175 1010  618 1651  705  901 1340 1246 1099 1530 1780 1402 1484 1140\n",
            " 1525 1132 3300  786 1785  803 1975  914 1170 1435 1444 1503  966 1062\n",
            " 1015 1570 1157 2792 1153  506  749 1107 1235 1415  281 6000  926 2280\n",
            "  826  502  833  809 2240 1424  595 1075 2317 1109 1290  939 1610  973\n",
            " 1420  843 1144 1903 1383 1912 1146  909  886 1625 1535  647 1798 2061\n",
            "  919 2395 1815 2290 1473 4050 2520  242 1496  878 1956 1955 1090 3133\n",
            " 2050 1160 1417 1565 1675 1135 3698 2405 1248 3115  927  562 1720  103\n",
            " 8000 1730  133  192 1315 1230 4761 1970 1940  167  933 1742 1838 1960\n",
            " 1275 1285 2235 1283 3455 3050 7000 1606 2352 2671 1156   67 1492 2990\n",
            " 2780 1685  853 2310 1965 1834   10 3789 1422 1124 4200  214  855]\n",
            "Area Type : [0 1 2]\n",
            "Furnishing Status : [0 1 2]\n",
            "Bathroom : [ 2  1  3  5  4  6  7 10]\n"
          ]
        }
      ],
      "source": [
        "print_unique_values_for_column(dataframe)"
      ]
    },
    {
      "cell_type": "code",
      "execution_count": 14,
      "id": "3bb3eb76",
      "metadata": {
        "id": "3bb3eb76"
      },
      "outputs": [],
      "source": [
        "cols_to_be_scale = ['BHK','Size','Area Type','Furnishing Status','Bathroom']"
      ]
    },
    {
      "cell_type": "code",
      "execution_count": 15,
      "id": "ea1825fe",
      "metadata": {
        "id": "ea1825fe"
      },
      "outputs": [],
      "source": [
        "from sklearn import preprocessing\n",
        "\n",
        "scaler = preprocessing.MinMaxScaler()\n",
        "\n",
        "dataframe[cols_to_be_scale] = scaler.fit_transform(dataframe[cols_to_be_scale])"
      ]
    },
    {
      "cell_type": "code",
      "execution_count": 16,
      "id": "760fda6a",
      "metadata": {
        "colab": {
          "base_uri": "https://localhost:8080/"
        },
        "id": "760fda6a",
        "outputId": "3e26cdc4-b65a-4536-ceb2-303e03c4ddae"
      },
      "outputs": [
        {
          "name": "stdout",
          "output_type": "stream",
          "text": [
            "BHK : [0.2 0.  0.4 1.  0.6 0.8]\n",
            "Rent : [  10000   20000   17000    7500    7000    5000   26000   25000    6500\n",
            "    5500    8500   40000    6000   11000    7900    9000    4000    8000\n",
            "    5300   12500   15000   22000   21000    7200   12000    4600   30000\n",
            "    3500   16000   14500    8200    6700   18000   35000  180000   14000\n",
            "    3900    6300   13000    6800    4700    4500   17500    2200    9500\n",
            "   16500   10500   50000    5200   24000    3000    3200    1500    3800\n",
            "    6200    9900   36125   23000    5146   22500   34000    1800    3700\n",
            "    3300   60000   65000   45000   70000   75000  160000  300000  130000\n",
            "   33000   32000   49000   28000   33500   85000  270000  400000  150000\n",
            "  100000   19411  190000   68000  110000   44000   43000   57000   27000\n",
            "   55000   95000   80000   89000   38000  350000  170000  210000   47000\n",
            "  120000   62000   42000   41000   84500  220000  310000   53000  250000\n",
            "   13500   25500   45002   48000  140000  230000  600000   46000   55100\n",
            "  320000   92500   29999  330000   36000   53500   61000  200000   19000\n",
            "   18500   19500   90000   93000   69999 1000000   33003  450000  280000\n",
            "   56000   83000   39000   15500   51000  260000   43500   77500   59000\n",
            "   72000   52000   51500   98000   23500 1200000   84000  500000    9400\n",
            "   94000   58000   54500   67000  380000   29500   37000   35500   90100\n",
            "   77000  290000  240000   26500   54000   76000   79500   63000   28500\n",
            "  360000   66000  650000  850000   34999   49500   46700   88000   78000\n",
            "   74999   69000   29000   31000  700000  680000   61500   11400   11500\n",
            "   32900    6900   27500    9750 3500000    8900   21500    9300   26969\n",
            "   42500    4300    4800   17681   13900    7700    4750   17600    9250\n",
            "   14900   20500    2000   17401   44300  530000   20200   31500   22999\n",
            "   12100   24500    7600   11200   34500    5700   23999    5250   47500\n",
            "   18999    4200   15723    6250   37500    6166    9800   19397   27999\n",
            "   10677   32500   23382   19800    1200    5400   12333   21467    5800]\n",
            "Size : [0.13642053 0.09887359 0.12390488 0.10513141 0.0738423  0.08635795\n",
            " 0.03003755 0.14893617 0.04881101 0.0456821  0.11138924 0.15969962\n",
            " 0.24906133 0.08135169 0.08010013 0.03629537 0.19899875 0.04317897\n",
            " 0.04255319 0.06758448 0.06132666 0.077597   0.03254068 0.1864831\n",
            " 0.16145181 0.13241552 0.0175219  0.05506884 0.08886108 0.08385482\n",
            " 0.11764706 0.22403004 0.05882353 0.05319149 0.18022528 0.09261577\n",
            " 0.02628285 0.00125156 0.02377972 0.10387985 0.09136421 0.06007509\n",
            " 0.09274093 0.03379224 0.01376721 0.1514393  0.08260325 0.02252816\n",
            " 0.02878598 0.27409262 0.0844806  0.00425532 0.13767209 0.04780976\n",
            " 0.08760951 0.17396746 0.01877347 0.15519399 0.10375469 0.02753442\n",
            " 0.07634543 0.16770964 0.08923655 0.0387985  0.26908636 0.21151439\n",
            " 0.01501877 0.06195244 0.49937422 0.14768461 0.12540676 0.10037547\n",
            " 0.05131414 0.21777222 0.10262829 0.1301627  0.11889862 0.09336671\n",
            " 0.03479349 0.12215269 0.16520651 0.03904881 0.43679599 0.11852315\n",
            " 0.17772215 0.16395494 0.05819775 0.09637046 0.07008761 0.0563204\n",
            " 0.06508135 0.06858573 0.02065081 0.05193992 0.08898623 0.14267835\n",
            " 0.27534418 0.08322904 0.23404255 0.07884856 0.20525657 0.06357947\n",
            " 0.09599499 0.28760951 0.11013767 0.10988736 0.03316646 0.05181477\n",
            " 0.25894869 0.07209011 0.07509387 0.05982478 0.08911139 0.05757196\n",
            " 0.05006258 0.06633292 0.11539424 0.06883605 0.37421777 0.08585732\n",
            " 0.31163955 0.08823529 0.1660826  0.09098874 0.09386733 0.04443054\n",
            " 0.32415519 0.22190238 0.06946183 0.18823529 0.1339174  0.1020025\n",
            " 0.04380476 0.19211514 0.05281602 0.08573217 0.13579474 0.09762203\n",
            " 0.08147685 0.04005006 0.11451815 0.13704631 0.18147685 0.05068836\n",
            " 0.07196496 0.218398   0.04693367 0.07734668 0.13191489 0.10450563\n",
            " 0.23842303 0.09974969 0.04630788 0.05231539 0.19274093 0.18072591\n",
            " 0.10638298 0.05294118 0.33667084 0.15206508 0.15193992 0.03692115\n",
            " 0.08510638 0.07822278 0.17133917 0.04755945 0.11576971 0.06570713\n",
            " 0.46182728 0.14993742 0.39924906 0.02690864 0.05669587 0.23654568\n",
            " 0.16458073 0.11201502 0.05569462 0.05256571 0.09824781 0.07071339\n",
            " 0.08085106 0.08873592 0.38222778 0.42428035 0.12140175 0.34918648\n",
            " 0.05043805 0.23028786 0.21214018 0.16833542 0.04130163 0.05769712\n",
            " 0.18998748 0.12765957 0.12202753 0.09962453 0.07171464 0.12315394\n",
            " 0.06382979 0.34292866 0.30212766 0.0893617  0.13341677 0.27033792\n",
            " 0.05944931 0.05857322 0.08685857 0.06445557 0.09324155 0.07697121\n",
            " 0.04505632 0.09949937 0.09161452 0.09198999 0.15707134 0.03942428\n",
            " 0.11163955 0.15306633 0.2640801  0.24117647 0.62453066 0.07334168\n",
            " 0.2428035  0.06257822 0.15644556 0.0951189  0.48685857 0.08560701\n",
            " 0.40550688 0.21652065 0.05782228 0.0514393  0.06320401 0.10275344\n",
            " 0.09299124 0.1485607  0.10888611 0.13491865 0.33041302 0.12077597\n",
            " 0.09699625 0.12590738 0.0543179  0.06232791 0.0767209  0.16871089\n",
            " 0.15581977 0.11827284 0.10763454 0.21038798 0.07571965 0.08172716\n",
            " 0.17797247 0.07997497 0.10913642 0.09086358 0.21276596 0.06821026\n",
            " 0.13204005 0.10563204 0.11214018 0.14017522 0.06070088 0.04968711\n",
            " 0.13541927 0.0824781  0.08948686 0.12377972 0.15594493 0.11001252\n",
            " 0.05306633 0.13904881 0.11602003 0.04618273 0.11389237 0.05381727\n",
            " 0.07158949 0.20112641 0.10337922 0.25481852 0.09011264 0.02740926\n",
            " 0.1126408  0.20500626 0.10137672 0.09524406 0.18973717 0.05694618\n",
            " 0.1330413  0.03754693 0.11977472 0.20513141 0.19399249 0.56195244\n",
            " 0.17709637 0.17083855 0.15769712 0.03191489 0.05156446 0.11076345\n",
            " 0.2068836  0.04593242 0.25907384 0.11952441 0.26157697 0.17146433\n",
            " 0.10738423 0.12015019 0.09561952 0.14292866 0.07897372 0.10012516\n",
            " 0.10826033 0.09361702 0.359199   0.24430538 0.07259074 0.13892365\n",
            " 0.34030038 0.41852315 0.12891114 0.17434293 0.32515645 0.12953692\n",
            " 0.12653317 0.15894869 0.20901126 0.14330413 0.36170213 0.39299124\n",
            " 0.01126408 0.19937422 0.2204005  0.09549437 0.10700876 0.2290363\n",
            " 0.14380476 0.00500626 0.12265332 0.1689612  0.21864831 0.15907384\n",
            " 0.15156446 0.05081352 0.12090113 0.17234043 0.12640801 0.20463079\n",
            " 0.40876095 0.23566959 0.16095119 0.59949937 0.13216521 0.26783479\n",
            " 0.26282854 0.12703379 0.14643304 0.07133917 0.11188986 0.15544431\n",
            " 0.34543179 0.01677096 0.12453066 0.15819775 0.18397997 0.13829787\n",
            " 0.13141427 0.15869837 0.51251564 0.13078849 0.1106383  0.2991239\n",
            " 0.3028786  0.18335419 0.54205257 0.10463079 0.01251564 0.71214018\n",
            " 0.21902378 0.38673342 0.09574468 0.05444305 0.3379224  0.22002503\n",
            " 0.06533166 0.18210263 0.11639549 0.22265332 0.20125156 0.17071339\n",
            " 0.19649562 0.56821026 0.16558198 0.23341677 0.20650814 0.1620776\n",
            " 0.14743429 0.29787234 0.22252816 0.18898623 0.18197747 0.0212766\n",
            " 0.01627034 0.00813517 0.2077597  0.00750939 0.00625782 0.02002503\n",
            " 0.00475594 0.23667084 0.01689612 0.00187735 0.11038798 0.00876095\n",
            " 0.00438048 0.13954944 0.08798498 0.00550688 0.00663329 0.17897372\n",
            " 0.00563204 0.00725907 0.0068836  0.28660826 0.00926158 0.01001252\n",
            " 0.06282854 0.05456821 0.01439299 0.0612015  0.00250313 0.06095119\n",
            " 0.0106383  0.03279099 0.36483104 0.01201502 0.01076345 0.0669587\n",
            " 0.01939925 0.2330413  0.00375469 0.00400501 0.31789737 0.47434293\n",
            " 0.14956195 0.00838548 0.12728411 0.17747184 0.26370463 0.18172716\n",
            " 0.08310388 0.19148936 0.11514393 0.15018773 0.15319149 0.14418023\n",
            " 0.15657071 0.14205257 0.44931164 0.1436796  0.11113892 0.08848561\n",
            " 0.13266583 0.25356696 0.07622028 0.01314143 0.2146433  0.25707134\n",
            " 0.19361702 0.1135169  0.07121402 0.23904881 0.12415519 0.09612015\n",
            " 0.19486859 0.13804756 0.14580726 0.12515645 0.07609512 0.20538173\n",
            " 0.08698373 0.11151439 0.16645807 0.15469337 0.13629537 0.1902378\n",
            " 0.22152691 0.17421777 0.1844806  0.14142678 0.18961202 0.14042553\n",
            " 0.41176471 0.0971214  0.22215269 0.09924906 0.24593242 0.11314143\n",
            " 0.14518148 0.17834793 0.17947434 0.18685857 0.11964956 0.13166458\n",
            " 0.12578223 0.19524406 0.14355444 0.34818523 0.14305382 0.0620776\n",
            " 0.09249061 0.13729662 0.15331665 0.17584481 0.0339174  0.74968711\n",
            " 0.1146433  0.28410513 0.10212766 0.06157697 0.10300375 0.1\n",
            " 0.27909887 0.17697121 0.07321652 0.13329161 0.28873592 0.13754693\n",
            " 0.16020025 0.11627034 0.20025031 0.12052566 0.17647059 0.10425532\n",
            " 0.14192741 0.23692115 0.1718398  0.23804756 0.14217772 0.11251564\n",
            " 0.10963705 0.20212766 0.19086358 0.07972466 0.22377972 0.25669587\n",
            " 0.11376721 0.29849812 0.22590738 0.2853567  0.18310388 0.50563204\n",
            " 0.31414268 0.0290363  0.18598248 0.10863579 0.24355444 0.24342929\n",
            " 0.13516896 0.39086358 0.25531915 0.14392991 0.17609512 0.19461827\n",
            " 0.20838548 0.140801   0.46157697 0.29974969 0.15494368 0.38861076\n",
            " 0.11476846 0.06908636 0.21401752 0.01163955 1.         0.21526909\n",
            " 0.01539424 0.02277847 0.16332916 0.15269086 0.59461827 0.24530663\n",
            " 0.24155194 0.01964956 0.1155194  0.21677096 0.22878598 0.24405507\n",
            " 0.1583229  0.15957447 0.27847309 0.15932416 0.43116395 0.38047559\n",
            " 0.87484355 0.19974969 0.2931164  0.3330413  0.14342929 0.00713392\n",
            " 0.18548185 0.37296621 0.34668335 0.20963705 0.10550688 0.28785982\n",
            " 0.24468085 0.22828536 0.         0.47296621 0.1767209  0.13942428\n",
            " 0.52440551 0.02553191 0.1057572 ]\n",
            "Area Type : [0.  0.5 1. ]\n",
            "Furnishing Status : [0.  0.5 1. ]\n",
            "Bathroom : [0.11111111 0.         0.22222222 0.44444444 0.33333333 0.55555556\n",
            " 0.66666667 1.        ]\n"
          ]
        }
      ],
      "source": [
        "print_unique_values_for_column(dataframe)"
      ]
    },
    {
      "cell_type": "code",
      "execution_count": 17,
      "id": "a3a31612",
      "metadata": {
        "id": "a3a31612"
      },
      "outputs": [],
      "source": [
        "x = dataframe.drop('Rent',axis='columns')\n",
        "y = dataframe['Rent']"
      ]
    },
    {
      "cell_type": "code",
      "execution_count": 18,
      "id": "935553c8",
      "metadata": {
        "id": "935553c8"
      },
      "outputs": [],
      "source": [
        "x = np.hstack((np.ones((m,1)), x))"
      ]
    },
    {
      "cell_type": "code",
      "execution_count": 19,
      "id": "7f467dc4",
      "metadata": {
        "colab": {
          "base_uri": "https://localhost:8080/"
        },
        "id": "7f467dc4",
        "outputId": "08b3530a-99f0-4915-c586-259f7d662357"
      },
      "outputs": [
        {
          "data": {
            "text/plain": [
              "array([[1.        , 0.2       , 0.13642053, 0.        , 0.        ,\n",
              "        0.11111111],\n",
              "       [1.        , 0.2       , 0.09887359, 0.        , 0.5       ,\n",
              "        0.        ],\n",
              "       [1.        , 0.2       , 0.12390488, 0.        , 0.5       ,\n",
              "        0.        ],\n",
              "       [1.        , 0.2       , 0.09887359, 0.        , 0.        ,\n",
              "        0.        ],\n",
              "       [1.        , 0.2       , 0.10513141, 0.5       , 0.        ,\n",
              "        0.        ]])"
            ]
          },
          "execution_count": 19,
          "metadata": {},
          "output_type": "execute_result"
        }
      ],
      "source": [
        "x[:5]"
      ]
    },
    {
      "cell_type": "code",
      "execution_count": 20,
      "id": "472becfe",
      "metadata": {
        "colab": {
          "base_uri": "https://localhost:8080/"
        },
        "id": "472becfe",
        "outputId": "f8c40ba8-d0f1-49b3-aa12-9df28fc36aff"
      },
      "outputs": [
        {
          "data": {
            "text/plain": [
              "(4746, 6)"
            ]
          },
          "execution_count": 20,
          "metadata": {},
          "output_type": "execute_result"
        }
      ],
      "source": [
        "x.shape"
      ]
    },
    {
      "cell_type": "code",
      "execution_count": 21,
      "id": "f2724f00",
      "metadata": {
        "colab": {
          "base_uri": "https://localhost:8080/"
        },
        "id": "f2724f00",
        "outputId": "02f08ef3-3d91-4aaa-b632-c75ecb1234f0"
      },
      "outputs": [
        {
          "data": {
            "text/plain": [
              "4297      3300\n",
              "1620    100000\n",
              "332       6500\n",
              "4301     20000\n",
              "4667     11000\n",
              "Name: Rent, dtype: int64"
            ]
          },
          "execution_count": 21,
          "metadata": {},
          "output_type": "execute_result"
        }
      ],
      "source": [
        "y.sample(5)"
      ]
    },
    {
      "cell_type": "code",
      "execution_count": 22,
      "id": "989a032f",
      "metadata": {
        "colab": {
          "base_uri": "https://localhost:8080/"
        },
        "id": "989a032f",
        "outputId": "ea93b7a2-dae2-45ff-e643-5d1574a5f0f0"
      },
      "outputs": [
        {
          "data": {
            "text/plain": [
              "4746"
            ]
          },
          "execution_count": 22,
          "metadata": {},
          "output_type": "execute_result"
        }
      ],
      "source": [
        "m"
      ]
    },
    {
      "cell_type": "code",
      "execution_count": 23,
      "id": "986c3e5d",
      "metadata": {
        "id": "986c3e5d"
      },
      "outputs": [],
      "source": [
        "def gradient_descent(x, y, theta, alpha, epochs):\n",
        "    for i in range(epochs):\n",
        "        predictions = x.dot(theta)\n",
        "        errors = np.subtract(predictions, y)\n",
        "        sum_delta = (alpha / m) * x.T.dot(errors);\n",
        "        theta = theta - sum_delta;\n",
        "    return theta"
      ]
    },
    {
      "cell_type": "code",
      "execution_count": 24,
      "id": "dc5a5cd3",
      "metadata": {
        "id": "dc5a5cd3"
      },
      "outputs": [],
      "source": [
        "theta = np.zeros(6)\n",
        "epochs = 5000;\n",
        "alpha = 0.15;"
      ]
    },
    {
      "cell_type": "code",
      "execution_count": 25,
      "id": "b6c057e8",
      "metadata": {
        "colab": {
          "base_uri": "https://localhost:8080/"
        },
        "id": "b6c057e8",
        "outputId": "c0b0a3dc-d9a3-4f8d-b811-c80943aafe5f"
      },
      "outputs": [
        {
          "name": "stdout",
          "output_type": "stream",
          "text": [
            "5000 , [0. 0. 0. 0. 0. 0.] , 0.15\n",
            "Final value of theta = [-26116.66045671   -494.20256475 194101.89050925  46701.38797001\n",
            "  13231.66923233 201252.5686301 ]\n"
          ]
        }
      ],
      "source": [
        "print(f'{epochs} , {theta} , {alpha}')\n",
        "theta  = gradient_descent(x, y, theta, alpha , epochs)\n",
        "print('Final value of theta =', theta)"
      ]
    },
    {
      "cell_type": "code",
      "execution_count": 26,
      "id": "63cc1c51",
      "metadata": {
        "id": "63cc1c51"
      },
      "outputs": [],
      "source": [
        "def compute_cost(x, y, theta):\n",
        "    predictions = x.dot(theta)\n",
        "    errors = np.subtract(predictions, y)\n",
        "    sqrErrors = np.square(errors)\n",
        "    J = 1 / (2 * m) * np.sum(sqrErrors)\n",
        "    return J"
      ]
    },
    {
      "cell_type": "code",
      "execution_count": 27,
      "id": "523563a4",
      "metadata": {
        "colab": {
          "base_uri": "https://localhost:8080/"
        },
        "id": "523563a4",
        "outputId": "5ce99de3-4d05-4af1-8a7c-35f98afbc9c3"
      },
      "outputs": [
        {
          "data": {
            "text/plain": [
              "2329144259.30996"
            ]
          },
          "execution_count": 27,
          "metadata": {},
          "output_type": "execute_result"
        }
      ],
      "source": [
        "cost = compute_cost(x, y, theta)  \n",
        "cost"
      ]
    },
    {
      "cell_type": "code",
      "execution_count": 27,
      "id": "bcdb01b5",
      "metadata": {
        "id": "bcdb01b5"
      },
      "outputs": [],
      "source": []
    }
  ],
  "metadata": {
    "colab": {
      "provenance": []
    },
    "kernelspec": {
      "display_name": "Python 3 (ipykernel)",
      "language": "python",
      "name": "python3"
    },
    "language_info": {
      "codemirror_mode": {
        "name": "ipython",
        "version": 3
      },
      "file_extension": ".py",
      "mimetype": "text/x-python",
      "name": "python",
      "nbconvert_exporter": "python",
      "pygments_lexer": "ipython3",
      "version": "3.9.7"
    }
  },
  "nbformat": 4,
  "nbformat_minor": 5
}
